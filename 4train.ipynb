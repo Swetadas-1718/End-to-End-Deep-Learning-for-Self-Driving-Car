{
 "cells": [
  {
   "cell_type": "markdown",
   "id": "c1d5d16f",
   "metadata": {},
   "source": [
    "# Train the model"
   ]
  },
  {
   "cell_type": "code",
   "execution_count": null,
   "id": "5ac7f3a6",
   "metadata": {},
   "outputs": [],
   "source": [
    "import os\n",
    "import tensorflow as tf\n",
    "from tensorflow.core.protobuf import saver_pb2\n",
    "import scipy\n",
    "\n",
    "LOGDIR = r'C:\\Users\\sweta\\OneDrive\\Desktop\\DL Projects\\Self driving cars\\mine\\save'\n",
    "sess = tf.compat.v1.InteractiveSession()\n",
    "\n",
    "#L2NormConst = 0.001\n",
    "train_vars = tf.compat.v1.trainable_variables() #it will return all the variables. Here, all the weights and biases are variables which\n",
    "#are trainable.\n",
    "\n",
    "loss = tf.reduce_mean(tf.square(tf.subtract(y_, y))) + tf.add_n([tf.nn.l2_loss(v) for v in train_vars]) #* L2NormConst\n",
    "#since this is a regression problem so above loss is mean-squared-error loss\n",
    "train_step = tf.compat.v1.train.AdamOptimizer(1e-4).minimize(loss)\n",
    "sess.run(tf.compat.v1.initialize_all_variables())\n",
    "\n",
    "# create a summary to monitor cost tensor\n",
    "tf.compat.v1.summary.scalar(\"loss\", loss)\n",
    "# merge all summaries into a single op\n",
    "merged_summary_op =  tf.compat.v1.summary.merge_all()\n",
    "\n",
    "saver = tf.compat.v1.train.Saver(write_version = saver_pb2.SaverDef.V2)\n",
    "\n",
    "\n",
    "# op to write logs to Tensorboard\n",
    "logs_path = r'C:\\Users\\sweta\\OneDrive\\Desktop\\DL Projects\\Self driving cars\\mine\\log'\n",
    "summary_writer = tf.summary.FileWriter(logs_path, graph=tf.compat.v1.get_default_graph())\n",
    "\n",
    "epochs = 30\n",
    "batch_size = 100\n",
    "\n",
    "for epoch in range(epochs):    \n",
    "  for i in range(int(num_images/batch_size)):\n",
    "    xs, ys = LoadTrainBatch(batch_size)\n",
    "    train_step.run(feed_dict={x: xs, y_: ys, keep_prob: 0.8})\n",
    "    if i % 10 == 0:\n",
    "      xs, ys = LoadValBatch(batch_size)\n",
    "      loss_value = loss.eval(feed_dict={x:xs, y_: ys, keep_prob: 1.0})\n",
    "      print(\"Epoch: %d, Step: %d, Loss: %g\" % (epoch, epoch * batch_size + i, loss_value))\n",
    "\n",
    "    # write logs at every iteration\n",
    "    summary = merged_summary_op.eval(feed_dict={x:xs, y_: ys, keep_prob: 1.0})\n",
    "    summary_writer.add_summary(summary, epoch * num_images/batch_size + i)\n",
    "    \n",
    "    if i % batch_size == 0:\n",
    "      if not os.path.exists(LOGDIR):\n",
    "        os.makedirs(LOGDIR)\n",
    "      checkpoint_path = os.path.join(LOGDIR, \"model.ckpt\")\n",
    "      filename = saver.save(sess, checkpoint_path)\n",
    "  print(\"Model saved in file: %s\" % filename)\n",
    "\n",
    "print(\"Run the command line:\\n\" \\\n",
    "          \"--> tensorboard --logdir=./logs \" \\\n",
    "          \"\\nThen open http://0.0.0.0:6006/ into your web browser\")\n",
    "\n"
   ]
  }
 ],
 "metadata": {
  "kernelspec": {
   "display_name": "Python 3",
   "language": "python",
   "name": "python3"
  },
  "language_info": {
   "codemirror_mode": {
    "name": "ipython",
    "version": 3
   },
   "file_extension": ".py",
   "mimetype": "text/x-python",
   "name": "python",
   "nbconvert_exporter": "python",
   "pygments_lexer": "ipython3",
   "version": "3.8.5"
  }
 },
 "nbformat": 4,
 "nbformat_minor": 5
}
