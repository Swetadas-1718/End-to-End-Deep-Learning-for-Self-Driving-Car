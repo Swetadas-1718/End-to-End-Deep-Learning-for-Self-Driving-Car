{
 "cells": [
  {
   "cell_type": "markdown",
   "id": "c22ca72f",
   "metadata": {},
   "source": [
    "# Visual Output of the self driving car"
   ]
  },
  {
   "cell_type": "code",
   "execution_count": null,
   "id": "97432256",
   "metadata": {},
   "outputs": [],
   "source": [
    "import tensorflow as tf\n",
    "import scipy.misc\n",
    "import cv2\n",
    "from subprocess import call\n",
    "import math\n",
    "\n",
    "sess = tf.compat.v1.InteractiveSession()\n",
    "saver = tf.compat.v1.train.Saver()\n",
    "saver.restore(sess, r\"C:\\Users\\sweta\\OneDrive\\Desktop\\DL Projects\\Self driving cars\\Autopilot\\save\\model.ckpt\")\n",
    "\n",
    "img = cv2.imread(r\"C:\\Users\\sweta\\OneDrive\\Desktop\\DL Projects\\Self driving cars\\Autopilot\\steering_wheel_image.jpg\",0)\n",
    "rows,cols = img.shape\n",
    "\n",
    "smoothed_angle = 0\n",
    "\n",
    "#read data.txt\n",
    "xs = []\n",
    "ys = []\n",
    "with open(r\"C:\\Users\\sweta\\OneDrive\\Desktop\\DL Projects\\Self driving cars\\Autopilot\\driving_dataset\\data.txt\") as f:\n",
    "    for line in f:\n",
    "        xs.append(r\"C:\\Users\\sweta\\OneDrive\\Desktop\\DL Projects\\Self driving cars\\Autopilot\\driving_dataset/\" + line.split()[0])\n",
    "        ys.append(float(line.split()[1]) * scipy.pi / 180)\n",
    "\n",
    "# get number of images\n",
    "num_images = len(xs)\n",
    "\n",
    "i = math.ceil(num_images*0.8)\n",
    "print(\"starting frameofvideo:\" +str(i))\n",
    "cap = cv2.VideoCapture(0)\n",
    "while(cv2.waitKey(10) != ord('q')):\n",
    "    ret, frame = cap.read()\n",
    "    image = cv2.resize(frame, (200, 66)) / 255.0\n",
    "    degrees = y.eval(feed_dict={x: [image], keep_prob: 1.0})[0][0] * 180 / scipy.pi\n",
    "    call(\"clear\")\n",
    "    print(\"Predicted steering angle: \" + str(degrees) + \" degrees\")\n",
    "    cv2.imshow('frame', frame)\n",
    "    #make smooth angle transitions by turning the steering wheel based on the difference of the current angle and the predicted angle\n",
    "    smoothed_angle += 0.2 * pow(abs((degrees - smoothed_angle)), 2.0 / 3.0) * (degrees - smoothed_angle) / abs(degrees - smoothed_angle)\n",
    "    M = cv2.getRotationMatrix2D((cols/2,rows/2),-smoothed_angle,1)\n",
    "    dst = cv2.warpAffine(img,M,(cols,rows))\n",
    "    cv2.imshow(\"steering wheel\", dst)   \n",
    "    \n",
    "cap.release()\n",
    "cv2.destroyAllWindows()"
   ]
  }
 ],
 "metadata": {
  "kernelspec": {
   "display_name": "Python 3",
   "language": "python",
   "name": "python3"
  },
  "language_info": {
   "codemirror_mode": {
    "name": "ipython",
    "version": 3
   },
   "file_extension": ".py",
   "mimetype": "text/x-python",
   "name": "python",
   "nbconvert_exporter": "python",
   "pygments_lexer": "ipython3",
   "version": "3.8.5"
  }
 },
 "nbformat": 4,
 "nbformat_minor": 5
}
